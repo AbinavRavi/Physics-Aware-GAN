{
 "cells": [
  {
   "cell_type": "code",
   "execution_count": 1,
   "metadata": {
    "scrolled": true
   },
   "outputs": [],
   "source": [
    "import numpy as np\n",
    "import torch\n",
    "import torchvision\n",
    "import pickle\n",
    "import matplotlib.pyplot as plt\n",
    "from dataloader import *"
   ]
  },
  {
   "cell_type": "code",
   "execution_count": 2,
   "metadata": {},
   "outputs": [],
   "source": [
    "transform = transforms.Compose([Resize()])"
   ]
  },
  {
   "cell_type": "code",
   "execution_count": 3,
   "metadata": {},
   "outputs": [],
   "source": [
    "data = np.load('./data/velocity64.pickle',allow_pickle=True)\n"
   ]
  },
  {
   "cell_type": "code",
   "execution_count": 4,
   "metadata": {},
   "outputs": [],
   "source": [
    "#Normalize the data\n",
    "data[:,:,:,0] = (data[:,:,:,0] - np.min(data[:,:,:,0]))/(np.max(data[:,:,:,0])-np.min(data[:,:,:,0]))\n",
    "data[:,:,:,1] = (data[:,:,:,1] - np.min(data[:,:,:,1]))/(np.max(data[:,:,:,1]) - np.min(data[:,:,:,1]))"
   ]
  },
  {
   "cell_type": "code",
   "execution_count": 5,
   "metadata": {},
   "outputs": [],
   "source": [
    "data = SmokeDataset(data=data,transform=transform)"
   ]
  },
  {
   "cell_type": "code",
   "execution_count": 6,
   "metadata": {},
   "outputs": [
    {
     "name": "stdout",
     "output_type": "stream",
     "text": [
      "(2, 64, 64) (2, 8, 8)\n"
     ]
    }
   ],
   "source": [
    "for i,inputs in enumerate(data):\n",
    "    largeImage=inputs[0]\n",
    "    smallImage=inputs[1]\n",
    "    print(largeImage.shape, smallImage.shape)\n",
    "    break\n",
    "    "
   ]
  },
  {
   "cell_type": "code",
   "execution_count": 7,
   "metadata": {},
   "outputs": [],
   "source": [
    "#visualise the data from \n",
    "import scipy.misc\n",
    "\n",
    "def velocityFieldToPng(frameArray):\n",
    "    \"\"\" Returns an array that can be saved as png with scipy.misc.toimage\n",
    "    from a velocityField with shape [height, width, 2].\"\"\"\n",
    "    outputframeArray = np.zeros((frameArray.shape[0], frameArray.shape[1], 3))\n",
    "    for x in range(frameArray.shape[0]):\n",
    "        for y in range(frameArray.shape[1]):\n",
    "            # values above/below 1/-1 will be truncated by scipy\n",
    "            frameArray[y][x] = (frameArray[y][x] * 0.5) + 0.5\n",
    "            outputframeArray[y][x][0] = frameArray[y][x][0]\n",
    "            outputframeArray[y][x][1] = frameArray[y][x][1]\n",
    "    return outputframeArray"
   ]
  },
  {
   "cell_type": "markdown",
   "metadata": {},
   "source": [
    "# Write the GAN Architecture\n"
   ]
  },
  {
   "cell_type": "code",
   "execution_count": 8,
   "metadata": {},
   "outputs": [],
   "source": [
    "import torch.nn as nn\n",
    "import torch.nn.functional as F"
   ]
  },
  {
   "cell_type": "code",
   "execution_count": 9,
   "metadata": {},
   "outputs": [],
   "source": [
    "kernel = 2\n",
    "stride = 1"
   ]
  },
  {
   "cell_type": "code",
   "execution_count": 10,
   "metadata": {},
   "outputs": [],
   "source": [
    "class Discriminator(nn.Module):\n",
    "    def __init__(self,conv_dim=2):\n",
    "        super(Discriminator, self).__init__()\n",
    "        self.conv1 = nn.Conv2d(conv_dim,conv_dim*2,kernel_size=kernel,stride=stride)\n",
    "        self.conv2 = nn.Conv2d(conv_dim*2,conv_dim*4,kernel,stride)\n",
    "        self.conv3 = nn.Conv2d(conv_dim*4,conv_dim*8,kernel,stride)\n",
    "        self.conv4 = nn.Conv2d(conv_dim*8,conv_dim*16,kernel,stride)\n",
    "        \n",
    "    def forward(self,x):\n",
    "        x = F.relu(self.conv1(x))\n",
    "#         x = F.batch_norm(x)\n",
    "        x = F.relu(self.conv2(x))\n",
    "#         x = F.batch_norm(x)\n",
    "        x = F.relu(self.conv3(x))\n",
    "#         x = F.batch_norm(x)\n",
    "        x = F.sigmoid(self.conv4(x))\n",
    "        return x"
   ]
  },
  {
   "cell_type": "code",
   "execution_count": 11,
   "metadata": {},
   "outputs": [
    {
     "data": {
      "text/plain": [
       "Discriminator(\n",
       "  (conv1): Conv2d(2, 4, kernel_size=(2, 2), stride=(1, 1))\n",
       "  (conv2): Conv2d(4, 8, kernel_size=(2, 2), stride=(1, 1))\n",
       "  (conv3): Conv2d(8, 16, kernel_size=(2, 2), stride=(1, 1))\n",
       "  (conv4): Conv2d(16, 32, kernel_size=(2, 2), stride=(1, 1))\n",
       ")"
      ]
     },
     "execution_count": 11,
     "metadata": {},
     "output_type": "execute_result"
    }
   ],
   "source": [
    "Discriminator()"
   ]
  },
  {
   "cell_type": "code",
   "execution_count": 12,
   "metadata": {},
   "outputs": [],
   "source": [
    "class Generator(nn.Module):\n",
    "    def __init__(self,deconv_dim=2):\n",
    "        super(Generator, self).__init__()\n",
    "        self.deconv1 = nn.ConvTranspose2d(deconv_dim,deconv_dim*2,3,stride=2)\n",
    "        self.deconv2 = nn.ConvTranspose2d(deconv_dim*2,deconv_dim*4,3,stride=2)\n",
    "        self.deconv3 = nn.ConvTranspose2d(deconv_dim*4,deconv_dim*8,3,stride =2)\n",
    "        self.deconv4 = nn.ConvTranspose2d(deconv_dim*8,deconv_dim,3,stride=2)\n",
    "    \n",
    "    def forward(self,x):\n",
    "        \n",
    "        x = F.relu(self.deconv1(x))\n",
    "#         x = F.batch_norm(x)\n",
    "        x = F.relu(self.deconv2(x))\n",
    "#         x = F.batch_norm(x)\n",
    "        x = F.relu(self.deconv3(x))\n",
    "#         x = F.batch_norm(x)\n",
    "        x = F.sigmoid(self.deconv4(x))\n",
    "        \n",
    "        return x"
   ]
  },
  {
   "cell_type": "code",
   "execution_count": 13,
   "metadata": {},
   "outputs": [
    {
     "data": {
      "text/plain": [
       "Generator(\n",
       "  (deconv1): ConvTranspose2d(2, 4, kernel_size=(3, 3), stride=(2, 2))\n",
       "  (deconv2): ConvTranspose2d(4, 8, kernel_size=(3, 3), stride=(2, 2))\n",
       "  (deconv3): ConvTranspose2d(8, 16, kernel_size=(3, 3), stride=(2, 2))\n",
       "  (deconv4): ConvTranspose2d(16, 2, kernel_size=(3, 3), stride=(2, 2))\n",
       ")"
      ]
     },
     "execution_count": 13,
     "metadata": {},
     "output_type": "execute_result"
    }
   ],
   "source": [
    "Generator()"
   ]
  },
  {
   "cell_type": "code",
   "execution_count": 14,
   "metadata": {},
   "outputs": [],
   "source": [
    "params = {'batch_size': 10,\n",
    "          'shuffle': True,\n",
    "          'num_workers': 6}\n",
    "max_epochs = 1"
   ]
  },
  {
   "cell_type": "code",
   "execution_count": 15,
   "metadata": {},
   "outputs": [],
   "source": [
    "dataset = torch.utils.data.DataLoader(dataset=data,**params)"
   ]
  },
  {
   "cell_type": "code",
   "execution_count": 16,
   "metadata": {},
   "outputs": [
    {
     "name": "stdout",
     "output_type": "stream",
     "text": [
      "torch.Size([10, 2, 64, 64]) torch.Size([10, 2, 8, 8])\n"
     ]
    }
   ],
   "source": [
    "dataiter = iter(dataset)\n",
    "Dinput,Ginput = dataiter.next()\n",
    "print(Dinput.shape,Ginput.shape)\n"
   ]
  },
  {
   "cell_type": "code",
   "execution_count": 17,
   "metadata": {},
   "outputs": [],
   "source": [
    "D = Discriminator()\n",
    "G = Generator()"
   ]
  },
  {
   "cell_type": "code",
   "execution_count": 18,
   "metadata": {},
   "outputs": [
    {
     "data": {
      "text/plain": [
       "tensor([[[[0.5332, 0.5400, 0.5368,  ..., 0.5384, 0.5393, 0.5414],\n",
       "          [0.5328, 0.5344, 0.5271,  ..., 0.5306, 0.5338, 0.5316],\n",
       "          [0.5373, 0.5427, 0.5460,  ..., 0.5430, 0.5411, 0.5433],\n",
       "          ...,\n",
       "          [0.5383, 0.5410, 0.5459,  ..., 0.5433, 0.5414, 0.5440],\n",
       "          [0.5346, 0.5336, 0.5292,  ..., 0.5274, 0.5348, 0.5317],\n",
       "          [0.5418, 0.5374, 0.5456,  ..., 0.5445, 0.5382, 0.5401]],\n",
       "\n",
       "         [[0.4805, 0.4876, 0.4725,  ..., 0.4708, 0.4869, 0.4659],\n",
       "          [0.4769, 0.4786, 0.4744,  ..., 0.4735, 0.4789, 0.4725],\n",
       "          [0.4788, 0.4913, 0.4555,  ..., 0.4587, 0.4908, 0.4572],\n",
       "          ...,\n",
       "          [0.4753, 0.4907, 0.4576,  ..., 0.4586, 0.4905, 0.4571],\n",
       "          [0.4758, 0.4776, 0.4759,  ..., 0.4737, 0.4789, 0.4735],\n",
       "          [0.4716, 0.4774, 0.4633,  ..., 0.4647, 0.4785, 0.4655]]],\n",
       "\n",
       "\n",
       "        [[[0.5332, 0.5400, 0.5367,  ..., 0.5384, 0.5393, 0.5414],\n",
       "          [0.5328, 0.5344, 0.5271,  ..., 0.5306, 0.5338, 0.5316],\n",
       "          [0.5373, 0.5427, 0.5460,  ..., 0.5430, 0.5411, 0.5433],\n",
       "          ...,\n",
       "          [0.5383, 0.5410, 0.5459,  ..., 0.5433, 0.5414, 0.5440],\n",
       "          [0.5346, 0.5336, 0.5292,  ..., 0.5274, 0.5348, 0.5317],\n",
       "          [0.5418, 0.5374, 0.5456,  ..., 0.5445, 0.5382, 0.5401]],\n",
       "\n",
       "         [[0.4805, 0.4876, 0.4725,  ..., 0.4708, 0.4869, 0.4659],\n",
       "          [0.4769, 0.4786, 0.4744,  ..., 0.4735, 0.4789, 0.4725],\n",
       "          [0.4788, 0.4913, 0.4555,  ..., 0.4587, 0.4908, 0.4571],\n",
       "          ...,\n",
       "          [0.4753, 0.4907, 0.4576,  ..., 0.4586, 0.4905, 0.4571],\n",
       "          [0.4758, 0.4776, 0.4759,  ..., 0.4737, 0.4789, 0.4735],\n",
       "          [0.4716, 0.4774, 0.4632,  ..., 0.4647, 0.4785, 0.4655]]],\n",
       "\n",
       "\n",
       "        [[[0.5332, 0.5400, 0.5367,  ..., 0.5384, 0.5393, 0.5414],\n",
       "          [0.5328, 0.5344, 0.5271,  ..., 0.5305, 0.5338, 0.5316],\n",
       "          [0.5373, 0.5427, 0.5460,  ..., 0.5430, 0.5411, 0.5432],\n",
       "          ...,\n",
       "          [0.5383, 0.5410, 0.5459,  ..., 0.5433, 0.5414, 0.5440],\n",
       "          [0.5346, 0.5336, 0.5292,  ..., 0.5274, 0.5348, 0.5317],\n",
       "          [0.5418, 0.5374, 0.5456,  ..., 0.5445, 0.5382, 0.5401]],\n",
       "\n",
       "         [[0.4805, 0.4876, 0.4725,  ..., 0.4708, 0.4869, 0.4659],\n",
       "          [0.4769, 0.4786, 0.4744,  ..., 0.4735, 0.4789, 0.4725],\n",
       "          [0.4788, 0.4913, 0.4555,  ..., 0.4587, 0.4908, 0.4571],\n",
       "          ...,\n",
       "          [0.4753, 0.4907, 0.4576,  ..., 0.4586, 0.4905, 0.4571],\n",
       "          [0.4758, 0.4776, 0.4759,  ..., 0.4737, 0.4789, 0.4735],\n",
       "          [0.4716, 0.4774, 0.4632,  ..., 0.4647, 0.4785, 0.4655]]],\n",
       "\n",
       "\n",
       "        ...,\n",
       "\n",
       "\n",
       "        [[[0.5332, 0.5400, 0.5367,  ..., 0.5384, 0.5393, 0.5414],\n",
       "          [0.5328, 0.5344, 0.5271,  ..., 0.5305, 0.5338, 0.5316],\n",
       "          [0.5373, 0.5427, 0.5460,  ..., 0.5430, 0.5411, 0.5432],\n",
       "          ...,\n",
       "          [0.5383, 0.5410, 0.5459,  ..., 0.5433, 0.5413, 0.5440],\n",
       "          [0.5346, 0.5336, 0.5292,  ..., 0.5274, 0.5348, 0.5317],\n",
       "          [0.5418, 0.5374, 0.5457,  ..., 0.5445, 0.5382, 0.5401]],\n",
       "\n",
       "         [[0.4805, 0.4876, 0.4725,  ..., 0.4708, 0.4869, 0.4659],\n",
       "          [0.4769, 0.4786, 0.4744,  ..., 0.4735, 0.4789, 0.4725],\n",
       "          [0.4788, 0.4914, 0.4555,  ..., 0.4587, 0.4908, 0.4571],\n",
       "          ...,\n",
       "          [0.4753, 0.4907, 0.4576,  ..., 0.4586, 0.4905, 0.4571],\n",
       "          [0.4758, 0.4776, 0.4759,  ..., 0.4737, 0.4789, 0.4735],\n",
       "          [0.4716, 0.4773, 0.4633,  ..., 0.4647, 0.4785, 0.4655]]],\n",
       "\n",
       "\n",
       "        [[[0.5332, 0.5400, 0.5367,  ..., 0.5384, 0.5393, 0.5414],\n",
       "          [0.5328, 0.5344, 0.5271,  ..., 0.5306, 0.5338, 0.5316],\n",
       "          [0.5373, 0.5427, 0.5460,  ..., 0.5430, 0.5411, 0.5433],\n",
       "          ...,\n",
       "          [0.5383, 0.5410, 0.5459,  ..., 0.5433, 0.5414, 0.5440],\n",
       "          [0.5346, 0.5336, 0.5292,  ..., 0.5274, 0.5348, 0.5317],\n",
       "          [0.5418, 0.5374, 0.5456,  ..., 0.5445, 0.5382, 0.5401]],\n",
       "\n",
       "         [[0.4805, 0.4876, 0.4725,  ..., 0.4708, 0.4869, 0.4659],\n",
       "          [0.4769, 0.4786, 0.4744,  ..., 0.4735, 0.4789, 0.4725],\n",
       "          [0.4788, 0.4914, 0.4555,  ..., 0.4587, 0.4908, 0.4572],\n",
       "          ...,\n",
       "          [0.4753, 0.4907, 0.4576,  ..., 0.4586, 0.4905, 0.4571],\n",
       "          [0.4758, 0.4776, 0.4759,  ..., 0.4737, 0.4789, 0.4735],\n",
       "          [0.4716, 0.4774, 0.4632,  ..., 0.4647, 0.4785, 0.4655]]],\n",
       "\n",
       "\n",
       "        [[[0.5332, 0.5400, 0.5367,  ..., 0.5384, 0.5393, 0.5414],\n",
       "          [0.5328, 0.5344, 0.5271,  ..., 0.5306, 0.5338, 0.5316],\n",
       "          [0.5373, 0.5427, 0.5460,  ..., 0.5430, 0.5411, 0.5433],\n",
       "          ...,\n",
       "          [0.5383, 0.5410, 0.5459,  ..., 0.5433, 0.5414, 0.5440],\n",
       "          [0.5346, 0.5336, 0.5292,  ..., 0.5274, 0.5348, 0.5317],\n",
       "          [0.5418, 0.5374, 0.5456,  ..., 0.5445, 0.5382, 0.5401]],\n",
       "\n",
       "         [[0.4805, 0.4876, 0.4725,  ..., 0.4708, 0.4869, 0.4659],\n",
       "          [0.4769, 0.4786, 0.4744,  ..., 0.4735, 0.4789, 0.4725],\n",
       "          [0.4788, 0.4914, 0.4555,  ..., 0.4587, 0.4908, 0.4572],\n",
       "          ...,\n",
       "          [0.4753, 0.4907, 0.4576,  ..., 0.4586, 0.4905, 0.4571],\n",
       "          [0.4758, 0.4776, 0.4759,  ..., 0.4737, 0.4789, 0.4735],\n",
       "          [0.4716, 0.4774, 0.4632,  ..., 0.4647, 0.4785, 0.4655]]]],\n",
       "       grad_fn=<SigmoidBackward>)"
      ]
     },
     "execution_count": 18,
     "metadata": {},
     "output_type": "execute_result"
    }
   ],
   "source": [
    "D(Dinput)\n",
    "G(Ginput)"
   ]
  },
  {
   "cell_type": "code",
   "execution_count": null,
   "metadata": {},
   "outputs": [],
   "source": []
  }
 ],
 "metadata": {
  "kernelspec": {
   "display_name": "Python 3",
   "language": "python",
   "name": "python3"
  },
  "language_info": {
   "codemirror_mode": {
    "name": "ipython",
    "version": 3
   },
   "file_extension": ".py",
   "mimetype": "text/x-python",
   "name": "python",
   "nbconvert_exporter": "python",
   "pygments_lexer": "ipython3",
   "version": "3.6.8"
  }
 },
 "nbformat": 4,
 "nbformat_minor": 2
}
