{
 "cells": [
  {
   "cell_type": "code",
   "execution_count": 3,
   "metadata": {},
   "outputs": [],
   "source": [
    "import numpy as np\n",
    "import torch\n",
    "import torchvision\n",
    "import pickle\n",
    "import matplotlib.pyplot as plt"
   ]
  },
  {
   "cell_type": "code",
   "execution_count": 4,
   "metadata": {},
   "outputs": [
    {
     "data": {
      "text/plain": [
       "(4200, 64, 64, 2)"
      ]
     },
     "execution_count": 4,
     "metadata": {},
     "output_type": "execute_result"
    }
   ],
   "source": [
    "#load the data set\n",
    "with open('./data/velocity64.pickle', 'rb') as handle:\n",
    "    velocities = pickle.load(handle)\n",
    "#normalize the images between -1 and 1\n",
    "for i in range(velocities.shape[0]):\n",
    "    velocities[i,:,:,:]=2*(velocities[i,:,:,:]-velocities[i,:,:,:].min())/(velocities[i,:,:,:].max()-velocities[i,:,:,:].min())-1\n",
    "velocities.shape"
   ]
  },
  {
   "cell_type": "code",
   "execution_count": 9,
   "metadata": {},
   "outputs": [
    {
     "name": "stdout",
     "output_type": "stream",
     "text": [
      "[[-0.27687752 -0.27687752 -0.27687752 -0.27687752 -0.27687752 -0.27687752\n",
      "  -0.27687752 -0.27687752]\n",
      " [-0.27687752 -0.27687752 -0.27687752 -0.27687752 -0.27687752 -0.27687752\n",
      "  -0.27687752 -0.27687752]\n",
      " [-0.27687752 -0.27687752 -0.27687752 -0.2837851  -0.27889848 -0.2819069\n",
      "  -0.27687752 -0.27687752]\n",
      " [-0.27687752 -0.27687752 -0.27687752 -0.46114624 -0.5448506  -0.38358516\n",
      "  -0.27687752 -0.27687752]\n",
      " [-0.27687752 -0.27687752 -0.27687752  0.3381344   0.23624766  0.24773574\n",
      "  -0.27687752 -0.27687752]\n",
      " [-0.27687752 -0.27687752 -0.27687752 -0.16897869 -0.52352345 -0.36851436\n",
      "  -0.27687752 -0.27687752]\n",
      " [-0.27687752 -0.27687752 -0.27687752 -0.27687752 -0.27687752 -0.27687752\n",
      "  -0.27687752 -0.27687752]\n",
      " [-0.27687752 -0.27687752 -0.27687752 -0.27687752 -0.27687752 -0.27687752\n",
      "  -0.27687752 -0.27687752]]\n",
      "[[-0.27687752 -0.27687752 -0.27687752 -0.27687752]\n",
      " [-0.27687752 -0.4535374  -0.27687752  0.56910324]\n",
      " [-0.27687752 -0.75356525 -0.27687752 -0.07424957]\n",
      " [-0.27687752 -0.27687752 -0.27687752 -0.27687752]]\n"
     ]
    }
   ],
   "source": [
    "#load the low resolution set\n",
    "with open('./Data/velocity8.pickle', 'rb') as handle:\n",
    "    velocities8 = pickle.load(handle)\n",
    "#normalize the images between -1 and 1\n",
    "for i in range(velocities8.shape[0]):\n",
    "    velocities8[i,:,:,:]=2*(velocities8[i,:,:,:]-velocities8[i,:,:,:].min())/(velocities8[i,:,:,:].max()-velocities8[i,:,:,:].min())-1\n",
    "velocities8.shape\n",
    "print(velocities8[0,:,:,0])\n",
    "sample1 = np.resize(velocities8[0,:,:,:])\n",
    "print(sample1)"
   ]
  },
  {
   "cell_type": "code",
   "execution_count": 9,
   "metadata": {},
   "outputs": [
    {
     "ename": "AttributeError",
     "evalue": "module 'skimage' has no attribute 'transform'",
     "output_type": "error",
     "traceback": [
      "\u001b[0;31m---------------------------------------------------------------------------\u001b[0m",
      "\u001b[0;31mAttributeError\u001b[0m                            Traceback (most recent call last)",
      "\u001b[0;32m<ipython-input-9-45a0e4977c3d>\u001b[0m in \u001b[0;36m<module>\u001b[0;34m()\u001b[0m\n\u001b[1;32m      3\u001b[0m     \u001b[0mvelocities8\u001b[0m \u001b[0;34m=\u001b[0m \u001b[0mpickle\u001b[0m\u001b[0;34m.\u001b[0m\u001b[0mload\u001b[0m\u001b[0;34m(\u001b[0m\u001b[0msmall\u001b[0m\u001b[0;34m)\u001b[0m\u001b[0;34m\u001b[0m\u001b[0;34m\u001b[0m\u001b[0m\n\u001b[1;32m      4\u001b[0m \u001b[0;31m#resize the image\u001b[0m\u001b[0;34m\u001b[0m\u001b[0;34m\u001b[0m\u001b[0;34m\u001b[0m\u001b[0m\n\u001b[0;32m----> 5\u001b[0;31m     \u001b[0mvelocities8\u001b[0m \u001b[0;34m=\u001b[0m \u001b[0mskimage\u001b[0m\u001b[0;34m.\u001b[0m\u001b[0mtransform\u001b[0m\u001b[0;34m.\u001b[0m\u001b[0mresize\u001b[0m\u001b[0;34m(\u001b[0m\u001b[0mvelocities8\u001b[0m\u001b[0;34m,\u001b[0m\u001b[0;36m1.0\u001b[0m\u001b[0;34m/\u001b[0m\u001b[0;36m8.0\u001b[0m\u001b[0;34m)\u001b[0m\u001b[0;34m\u001b[0m\u001b[0;34m\u001b[0m\u001b[0m\n\u001b[0m\u001b[1;32m      6\u001b[0m \u001b[0;34m\u001b[0m\u001b[0m\n\u001b[1;32m      7\u001b[0m \u001b[0;31m#normalize the images between -1 and 1\u001b[0m\u001b[0;34m\u001b[0m\u001b[0;34m\u001b[0m\u001b[0;34m\u001b[0m\u001b[0m\n",
      "\u001b[0;31mAttributeError\u001b[0m: module 'skimage' has no attribute 'transform'"
     ]
    }
   ],
   "source": [
    "#resize the images of 64 to 8\n",
    "with open('./data/velocity64.pickle','rb') as small:\n",
    "    velocities8 = pickle.load(small)\n",
    "#resize the image\n",
    "    velocities8 = skimage.transform.resize(velocities8,1.0/8.0)\n",
    "\n",
    "#normalize the images between -1 and 1\n",
    "for i in range(velocities8.shape[0]):\n",
    "    velocities8[i,:,:,:] = 2*(velocities8[i,:,:,:]-velocities8[i,:,:,:].min())/(velocities8[i,:,:,:].max()-velocities8[i,:,:,:].min())-1\n",
    "velocities8.shape"
   ]
  },
  {
   "cell_type": "code",
   "execution_count": null,
   "metadata": {},
   "outputs": [],
   "source": []
  }
 ],
 "metadata": {
  "kernelspec": {
   "display_name": "Python 3",
   "language": "python",
   "name": "python3"
  },
  "language_info": {
   "codemirror_mode": {
    "name": "ipython",
    "version": 3
   },
   "file_extension": ".py",
   "mimetype": "text/x-python",
   "name": "python",
   "nbconvert_exporter": "python",
   "pygments_lexer": "ipython3",
   "version": "3.6.7"
  }
 },
 "nbformat": 4,
 "nbformat_minor": 2
}
