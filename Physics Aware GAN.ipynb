{
 "cells": [
  {
   "cell_type": "code",
   "execution_count": 1,
   "metadata": {
    "scrolled": true
   },
   "outputs": [],
   "source": [
    "import numpy as np\n",
    "import torch\n",
    "import torchvision\n",
    "import pickle\n",
    "import matplotlib.pyplot as plt\n",
    "from dataloader import *"
   ]
  },
  {
   "cell_type": "code",
   "execution_count": 2,
   "metadata": {},
   "outputs": [],
   "source": [
    "transform = transforms.Compose([Resize()])"
   ]
  },
  {
   "cell_type": "code",
   "execution_count": 3,
   "metadata": {},
   "outputs": [],
   "source": [
    "data = np.load('./data/velocity64.pickle',allow_pickle=True)\n"
   ]
  },
  {
   "cell_type": "code",
   "execution_count": 4,
   "metadata": {},
   "outputs": [],
   "source": [
    "#Normalize the data\n",
    "data[:,:,:,0] = (data[:,:,:,0] - np.min(data[:,:,:,0]))/(np.max(data[:,:,:,0])-np.min(data[:,:,:,0]))\n",
    "data[:,:,:,1] = (data[:,:,:,1] - np.min(data[:,:,:,1]))/(np.max(data[:,:,:,1]) - np.min(data[:,:,:,1]))"
   ]
  },
  {
   "cell_type": "code",
   "execution_count": 5,
   "metadata": {},
   "outputs": [],
   "source": [
    "data = SmokeDataset(data=data,transform=transform)"
   ]
  },
  {
   "cell_type": "code",
   "execution_count": 6,
   "metadata": {},
   "outputs": [
    {
     "name": "stdout",
     "output_type": "stream",
     "text": [
      "(64, 64, 2) (8, 8, 2)\n"
     ]
    }
   ],
   "source": [
    "for i,inputs in enumerate(data):\n",
    "    largeImage=inputs[0]\n",
    "    smallImage=inputs[1]\n",
    "    print(largeImage.shape, smallImage.shape)\n",
    "    break\n",
    "    "
   ]
  },
  {
   "cell_type": "code",
   "execution_count": 7,
   "metadata": {},
   "outputs": [],
   "source": [
    "#visualise the data from \n",
    "import scipy.misc\n",
    "\n",
    "def velocityFieldToPng(frameArray):\n",
    "    \"\"\" Returns an array that can be saved as png with scipy.misc.toimage\n",
    "    from a velocityField with shape [height, width, 2].\"\"\"\n",
    "    outputframeArray = np.zeros((frameArray.shape[0], frameArray.shape[1], 3))\n",
    "    for x in range(frameArray.shape[0]):\n",
    "        for y in range(frameArray.shape[1]):\n",
    "            # values above/below 1/-1 will be truncated by scipy\n",
    "            frameArray[y][x] = (frameArray[y][x] * 0.5) + 0.5\n",
    "            outputframeArray[y][x][0] = frameArray[y][x][0]\n",
    "            outputframeArray[y][x][1] = frameArray[y][x][1]\n",
    "    return outputframeArray"
   ]
  },
  {
   "cell_type": "markdown",
   "metadata": {},
   "source": [
    "# Write the GAN Architecture\n"
   ]
  },
  {
   "cell_type": "code",
   "execution_count": 8,
   "metadata": {},
   "outputs": [],
   "source": [
    "import torch.nn as nn\n",
    "import torch.nn.functional as F"
   ]
  },
  {
   "cell_type": "code",
   "execution_count": null,
   "metadata": {},
   "outputs": [],
   "source": [
    "class Discriminator(nn.Module):\n",
    "    def __init__(self):\n",
    "        super(Discriminator, self).__init__()\n",
    "        self.conv1 = nn.Conv2d(2,8,3)\n",
    "        self.conv2 = nn.Conv2d(8,16,3)\n",
    "        self.conv3 = nn.Conv2d(16,32,3)\n",
    "        self.fc = nn.Linear(64,20)"
   ]
  },
  {
   "cell_type": "code",
   "execution_count": null,
   "metadata": {},
   "outputs": [],
   "source": []
  }
 ],
 "metadata": {
  "kernelspec": {
   "display_name": "Python 3",
   "language": "python",
   "name": "python3"
  },
  "language_info": {
   "codemirror_mode": {
    "name": "ipython",
    "version": 3
   },
   "file_extension": ".py",
   "mimetype": "text/x-python",
   "name": "python",
   "nbconvert_exporter": "python",
   "pygments_lexer": "ipython3",
   "version": "3.6.8"
  }
 },
 "nbformat": 4,
 "nbformat_minor": 2
}
